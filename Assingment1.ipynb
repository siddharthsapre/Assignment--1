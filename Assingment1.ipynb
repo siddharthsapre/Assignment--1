{
 "cells": [
  {
   "cell_type": "markdown",
   "id": "7f4cb8e1-0f5b-44ed-a694-ff8e8f620744",
   "metadata": {},
   "source": [
    "Q1Explain with an example each when to use a for loop and a while loop.\n",
    "While loop always check the condition of the loop whether it is true or\n",
    "false and then execute the results and for loop never check the condition.\n",
    "\n",
    "\n",
    "\n",
    "\n"
   ]
  },
  {
   "cell_type": "code",
   "execution_count": null,
   "id": "62f6ba5a-6be3-4be5-992b-b0b0c1171211",
   "metadata": {},
   "outputs": [],
   "source": [
    "enter=int(input(\"Enter any number\"))\n",
    "n=10\n",
    "for i in range(n):\n",
    "    i=i+1\n",
    "    k=enter*i\n",
    "    print(k)\n",
    "    "
   ]
  },
  {
   "cell_type": "markdown",
   "id": "0d6e9ea7-4ada-45db-a3ec-480b8c49e7b6",
   "metadata": {},
   "source": [
    "example of while loop"
   ]
  },
  {
   "cell_type": "code",
   "execution_count": null,
   "id": "8bfc161a-29f8-4b57-bd2a-27e517f668be",
   "metadata": {},
   "outputs": [],
   "source": [
    "enter=int(input(\"Enter any number\"))\n",
    "i=0\n",
    "\n",
    "while i<=10:\n",
    "    i=i+1\n",
    "    counter=i*enter\n",
    "    print(counter)"
   ]
  },
  {
   "cell_type": "markdown",
   "id": "1663eeaa-8450-4267-862b-52fc5e43bb1c",
   "metadata": {},
   "source": [
    "Q2. Write a python program to print the sum and product of the first 10 natural numbers using for\n",
    "and while loop 1+2+3+4+5+6+7+8+9+10,1*2*3*4*5*6*7*8*9*10."
   ]
  },
  {
   "cell_type": "code",
   "execution_count": null,
   "id": "bd71dbe5-a4ca-4c7c-9a07-b0862e6663b2",
   "metadata": {},
   "outputs": [],
   "source": [
    "n=[1,2,3,4,5,6,7,8,9,10]\n",
    "sum=0\n",
    "product=1\n",
    "for i in n:\n",
    "    sum=sum+i\n",
    "    product=product*i\n",
    "print(sum)\n",
    "print(product)\n",
    "        "
   ]
  },
  {
   "cell_type": "code",
   "execution_count": null,
   "id": "72c3386e-cde6-47c1-b70b-2060823252be",
   "metadata": {},
   "outputs": [],
   "source": [
    "sum=0\n",
    "product=1\n",
    "i=1\n",
    "while i<=10:\n",
    "    sum=sum+i\n",
    "    product=product*i\n",
    "    i=i+1\n",
    "print(sum)\n",
    "print(product)"
   ]
  },
  {
   "cell_type": "markdown",
   "id": "d5b56f56-1c99-40b1-bbe6-1d49a18c6744",
   "metadata": {},
   "source": [
    "Q3. Create a python program to compute the electricity bill for a household.\n",
    "The per-unit charges in rupees are as follows: For the first 100 units, the user will be charged Rs. 4.5 per\n",
    "unit, for the next 100 units, the user will be charged Rs. 6 per unit, and for the next 100 units, the user will\n",
    "be charged Rs. 10 per unit, After 300 units and above the user will be charged Rs. 20 per unit.\n",
    "You are required to take the units of electricity consumed in a month from the user as input.\n",
    "Your program must pass this test case: when the unit of electricity consumed by the user in a month is\n",
    "310, the total electricity bill should be 2250."
   ]
  },
  {
   "cell_type": "code",
   "execution_count": null,
   "id": "795fbc1d-1110-44b1-aab2-123989d641d0",
   "metadata": {},
   "outputs": [],
   "source": [
    "i=int(input(\"Please enter number of units consumed\"))\n",
    "\n",
    "\n",
    "if i<=100:\n",
    "    amount_consumed=4.5*i\n",
    "    print(amount_consumed)\n",
    "elif 100<=i<=200:\n",
    "    amount_consumed2=(4.5*100)+(6*(i-100))\n",
    "    print(amount_consumed2)\n",
    "elif 200<=i<=300:\n",
    "    amount_consumed3=(4.5*100)+(6*100)+(10*(i-200))\n",
    "    print(amount_consumed3)\n",
    "elif 300<=i:\n",
    "    amount_consumed4=(4.5*100)+(6*100)+(10*100)+(20*(i-300))\n",
    "    print(amount_consumed4)"
   ]
  },
  {
   "cell_type": "markdown",
   "id": "0ba40a62-98a5-4921-9df1-de4c3861f73e",
   "metadata": {},
   "source": [
    "Q4 Create a list of numbers from 1 to 100. Use for loop and while loop to calculate the cube of each\n",
    "number and if the cube of that number is divisible by 4 or 5 then append that number in a list and print\n",
    "that list."
   ]
  },
  {
   "cell_type": "code",
   "execution_count": 4,
   "id": "7a536db1-ad77-41df-8d97-9fd3b24e6c8d",
   "metadata": {},
   "outputs": [
    {
     "name": "stdout",
     "output_type": "stream",
     "text": [
      "[100]\n"
     ]
    }
   ],
   "source": [
    "## for loop\n",
    "cube=[]\n",
    "\n",
    "for i in range (1,101):\n",
    "    k=i**3\n",
    "if k%4==0 or k%5==0:\n",
    "    cube.append(i)\n",
    "print(cube)"
   ]
  },
  {
   "cell_type": "code",
   "execution_count": null,
   "id": "7c00c3b9-c2bc-4f0d-a4fe-c9fc15a66217",
   "metadata": {},
   "outputs": [],
   "source": [
    "## while loop\n",
    "\n",
    "cube=[]\n",
    "\n",
    "while i<=100:\n",
    "    k=i**3\n",
    "if k%4==0 or k%5==0:\n",
    "    cube.append(i)\n",
    "    i=i+1\n",
    "print(cube)\n",
    "\n",
    "\n"
   ]
  },
  {
   "cell_type": "markdown",
   "id": "8c102dc5-e75a-44d6-93f7-d84db43a216f",
   "metadata": {},
   "source": [
    "Q5. Write a program to filter count vowels in the below-given string.\n",
    "string = \"I want to become a data scientist\""
   ]
  },
  {
   "cell_type": "code",
   "execution_count": null,
   "id": "8b02ae93-4e6d-4184-b504-ccbc7fb42dc1",
   "metadata": {},
   "outputs": [],
   "source": [
    "string=\"I want to become a data scientist\"\n",
    "vowels=\"aeiouAEIOU\"\n",
    "blankstring=\"\"\n",
    "\n",
    "for i in string:\n",
    "    if i in vowels:\n",
    "        blankstring+=i\n",
    "print(blankstring)"
   ]
  }
 ],
 "metadata": {
  "kernelspec": {
   "display_name": "Python 3 (ipykernel)",
   "language": "python",
   "name": "python3"
  },
  "language_info": {
   "codemirror_mode": {
    "name": "ipython",
    "version": 3
   },
   "file_extension": ".py",
   "mimetype": "text/x-python",
   "name": "python",
   "nbconvert_exporter": "python",
   "pygments_lexer": "ipython3",
   "version": "3.10.6"
  }
 },
 "nbformat": 4,
 "nbformat_minor": 5
}
